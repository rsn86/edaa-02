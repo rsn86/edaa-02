{
  "nbformat": 4,
  "nbformat_minor": 0,
  "metadata": {
    "colab": {
      "provenance": [],
      "collapsed_sections": [
        "aCVRPtNVRI66",
        "xUguOb8dRh2W",
        "--l1sPm-R9nV"
      ]
    },
    "kernelspec": {
      "name": "python3",
      "display_name": "Python 3"
    },
    "language_info": {
      "name": "python"
    }
  },
  "cells": [
    {
      "cell_type": "markdown",
      "source": [
        "UNIVERSIDADE ESTADUAL DO OESTE DO PARANÁ - UNIOESTE\n",
        "PROGRAMA DE PÓS GRADUAÇÃO EM CIÊNCIA DA COMPUTAÇÃO – PPGCOMP\n",
        "\n",
        "\n",
        "Estruturas de Dados e Análise de Algoritmos - EDAA\n",
        "\n"
      ],
      "metadata": {
        "id": "Dlocp-meQxsb"
      }
    },
    {
      "cell_type": "markdown",
      "source": [
        "Atividade 1.2 – Algoritmos de Busca – Parte 2"
      ],
      "metadata": {
        "id": "uzXTICjVQxL_"
      }
    },
    {
      "cell_type": "markdown",
      "source": [
        "\n",
        "##1) Descrição\n",
        "A utilização de listas ligadas tem vantagens e desvantagens de acordo com o problema que está\n",
        "sendo resolvido. Por vezes, a manipulação dos dados (inserção e remoção, por exemplo) é mais otimizada.\n",
        "Porém, busca e ordenação, podem ser menos custosas utilizando vetores.\n",
        "\n",
        "Esta atividade individual consiste em implementar e comparar empiricamente a eficiência dos\n",
        "seguintes métodos de busca considerando estruturas de dados lineares e não lineares com valores inteiros:\n",
        "* Busca sequencial padrão em listas ligadas;\n",
        "* Busca em árvores binárias de busca."
      ],
      "metadata": {
        "id": "aCVRPtNVRI66"
      }
    },
    {
      "cell_type": "markdown",
      "source": [
        "## 2) Casos de Teste\n",
        "Utilize os casos de teste da Atividade 1.1. Considere os mesmos\n",
        "vetores gerados aleatoriamente antes da ordenação. Insira os elementos na lista ou árvore na ordem em que foram gerados"
      ],
      "metadata": {
        "id": "xUguOb8dRh2W"
      }
    },
    {
      "cell_type": "markdown",
      "source": [
        "## 3) Execução\n",
        "* Utilize a mesma linguagem da atividade de avaliação anterior.\n",
        "* O custo de criação do arranjo e das estruturas dinâmicas devem ser desconsiderados;\n",
        "* Para as árvores binárias de busca, informe a altura máxima das árvore gerada em cada cenário.\n",
        "* Execute as mesmas buscas da atividade anterior, incluindo o pior caso (e repetições) e os casos médios (100 buscas), calculando a média e o desvio padrão;"
      ],
      "metadata": {
        "id": "--l1sPm-R9nV"
      }
    },
    {
      "cell_type": "markdown",
      "source": [
        "## 4) Entrega\n",
        "Os resultados devem ser apresentados em até 10 (dez) páginas em PDF no formato de artigos da SBC – Sociedade Brasileira de Computação disponível em [Modelos para Publicação de Artigos](https://www.sbc.org.br/documentos-da-sbc/category/169-templates-para-artigos-e-capitulos-de-livros). O artigo\n",
        "deve incluir os resultados da atividade anterior, comparando os métodos de busca de acordo com as suas similaridades.\n",
        "\n",
        "No relatório:\n",
        "\n",
        "**Resumo/abstract**: deve conter minimamente o objetivo do trabalho e os principais resultados (máx. 10\n",
        "linhas).\n",
        "\n",
        "**Introdução**: contextualização do problema, breve descrição dos algoritmos, sequência das próximas seções\n",
        "do artigo (uma página, uma página e meia).\n",
        "\n",
        "**Materiais e métodos**: descrição do ambiente (computador, Sistema Operacional, linguagem, pacotes extras,\n",
        "etc.) e cenários de testes (até uma página).\n",
        "\n",
        "**Resultados**: além dos dados quantitativos, incluir uma discussão qualitativa dos resultados. Procure\n",
        "identificar melhores e piores usos para cada solução.\n",
        "\n",
        "**Conclusão**: retoma-se o objetivo do trabalho, a metodologia e apresenta-se os principais resultados (~meia\n",
        "página).\n",
        "\n",
        "**Referências bibliográficas**: fontes confiáveis."
      ],
      "metadata": {
        "id": "LPzNXEXGSkgU"
      }
    },
    {
      "cell_type": "markdown",
      "source": [
        "## Configuração do ambiente"
      ],
      "metadata": {
        "id": "C-c0tAT4sbcT"
      }
    },
    {
      "cell_type": "code",
      "source": [
        "# Listar locales instalados\n",
        "!locale -a"
      ],
      "metadata": {
        "colab": {
          "base_uri": "https://localhost:8080/"
        },
        "id": "e6V_mvxvshlB",
        "outputId": "7321b824-6dc3-463f-901b-f2c94df70f01"
      },
      "execution_count": 1,
      "outputs": [
        {
          "output_type": "stream",
          "name": "stdout",
          "text": [
            "C\n",
            "C.UTF-8\n",
            "en_US.utf8\n",
            "POSIX\n"
          ]
        }
      ]
    },
    {
      "cell_type": "code",
      "source": [
        "# Instalar o locale pt_BR\n",
        "!/usr/share/locales/install-language-pack pt_BR\n",
        "!dpkg-reconfigure locales"
      ],
      "metadata": {
        "colab": {
          "base_uri": "https://localhost:8080/"
        },
        "id": "43FhlMuesnTS",
        "outputId": "48f46e80-8eac-4dfd-ce41-06eeeb00bba7"
      },
      "execution_count": 2,
      "outputs": [
        {
          "output_type": "stream",
          "name": "stdout",
          "text": [
            "Generating locales (this might take a while)...\n",
            "  pt_BR.ISO-8859-1... done\n",
            "Generation complete.\n",
            "\u001b[1mdpkg-trigger:\u001b[0m \u001b[1;31merror:\u001b[0m must be called from a maintainer script (or with a --by-package option)\n",
            "\n",
            "Type dpkg-trigger --help for help about this utility.\n",
            "Generating locales (this might take a while)...\n",
            "  en_US.UTF-8... done\n",
            "  pt_BR.ISO-8859-1... done\n",
            "Generation complete.\n"
          ]
        }
      ]
    },
    {
      "cell_type": "code",
      "source": [
        "# Listar locales instalados\n",
        "!locale -a"
      ],
      "metadata": {
        "colab": {
          "base_uri": "https://localhost:8080/"
        },
        "outputId": "cf62e49f-039a-4296-d0e1-342bad1cf635",
        "id": "ryEb9fyvwpqp"
      },
      "execution_count": 3,
      "outputs": [
        {
          "output_type": "stream",
          "name": "stdout",
          "text": [
            "C\n",
            "C.UTF-8\n",
            "en_US.utf8\n",
            "POSIX\n",
            "pt_BR\n",
            "pt_BR.iso88591\n"
          ]
        }
      ]
    },
    {
      "cell_type": "code",
      "source": [
        "# Reinicar o processo do python para enxergar o locale pt_BR\n",
        "import os\n",
        "os.kill(os.getpid(), 9)\n",
        "# A execução do notebook será interrompida\n",
        "# Será necessário disparar nova executação a partir da célula abaixo (CTRL+F10)"
      ],
      "metadata": {
        "id": "Yf4CJ8yNsuKX"
      },
      "execution_count": null,
      "outputs": []
    },
    {
      "cell_type": "code",
      "source": [
        "# Ignorar alerta de itens depreciados\n",
        "import warnings\n",
        "warnings.simplefilter(action='ignore', category=FutureWarning)"
      ],
      "metadata": {
        "id": "YIXXs4CmtE5O"
      },
      "execution_count": 1,
      "outputs": []
    },
    {
      "cell_type": "code",
      "source": [
        "# Definir o locale pt_BR\n",
        "import locale\n",
        "locale.setlocale(locale.LC_NUMERIC, 'pt_BR.ISO8859-1')"
      ],
      "metadata": {
        "colab": {
          "base_uri": "https://localhost:8080/",
          "height": 35
        },
        "id": "vaf562nutHtf",
        "outputId": "67cc6a2b-8fff-4d59-a459-46135c1b672b"
      },
      "execution_count": 2,
      "outputs": [
        {
          "output_type": "execute_result",
          "data": {
            "text/plain": [
              "'pt_BR.ISO8859-1'"
            ],
            "application/vnd.google.colaboratory.intrinsic+json": {
              "type": "string"
            }
          },
          "metadata": {},
          "execution_count": 2
        }
      ]
    },
    {
      "cell_type": "markdown",
      "source": [
        "## Código"
      ],
      "metadata": {
        "id": "i1xrsvksS1Rd"
      }
    },
    {
      "cell_type": "markdown",
      "source": [
        "### Pacotes utilizados"
      ],
      "metadata": {
        "id": "KxUv7Ru2V3Tz"
      }
    },
    {
      "cell_type": "code",
      "source": [
        "# pacotes utilizados\n",
        "import random                               # Utilizado na geração do arranjo e da chave de busca - inteiros (pseudo)aleatórios\n",
        "import pandas as pd                         # Utilizado para calcular os resultados agregados das execuções\n",
        "\n",
        "from math import sqrt                       # Utilizado no cálculo do tamanho do salto/bloco - busca_por_saltos\n",
        "from collections import namedtuple          # Utilizado para armazenar os resultados da execução de cada busca realizada\n",
        "from collections.abc import Sequence        # Type hint nas funções que aceitam arranjos\n",
        "from timeit import default_timer as timer   # Utilizado na temporização das buscas e ordenações\n",
        "from types import FunctionType              # Type hint na função executar_busca, que aceita uma função metodo (de busca) como argumento\n",
        "from typing import Union                    # Type hint nas funções de busca, que retornam um int ou None\n",
        "from typing import TypeVar                  # Type hint nas estruturas de dados"
      ],
      "metadata": {
        "id": "wFx3fN5oR53r"
      },
      "execution_count": 3,
      "outputs": []
    },
    {
      "cell_type": "markdown",
      "source": [
        "### Definições"
      ],
      "metadata": {
        "id": "bI9KenH7VxEm"
      }
    },
    {
      "cell_type": "code",
      "execution_count": 4,
      "metadata": {
        "id": "7lNvOTI0QYHH"
      },
      "outputs": [],
      "source": [
        "# Definições\n",
        "TAM_ARRANJO_MIN =   100_000\n",
        "TAM_ARRANJO_MAX = 1_000_000\n",
        "TAM_ARRANJO_INC =   100_000\n",
        "\n",
        "EXEC_DESCARTAR_MAIOR = 2\n",
        "EXEC_ORDENACAO = 3 + EXEC_DESCARTAR_MAIOR\n",
        "EXEC_PIOR_CASO = 3 + EXEC_DESCARTAR_MAIOR\n",
        "EXEC_BUSCAS = 100 + EXEC_DESCARTAR_MAIOR\n",
        "\n",
        "FATOR_ESPALHAMENTO = 100\n",
        "\n",
        "# semente de aleatoriedade fixa para assegurar reprodutibilidade\n",
        "random.seed(42)     # o sentido da vida, o universo e tudo mais"
      ]
    },
    {
      "cell_type": "markdown",
      "source": [
        "### Estruturas de dados"
      ],
      "metadata": {
        "id": "dLO8bQ9DVoqL"
      }
    },
    {
      "cell_type": "code",
      "source": [
        "# Tipo genérico para os dados armazenados nas estruturas de dados\n",
        "T = TypeVar(\"T\")"
      ],
      "metadata": {
        "id": "begQkFYhVc3T"
      },
      "execution_count": 5,
      "outputs": []
    },
    {
      "cell_type": "markdown",
      "source": [
        "#### Árvore binária de busca"
      ],
      "metadata": {
        "id": "R_vWVvM_WRiu"
      }
    },
    {
      "cell_type": "code",
      "source": [
        "# Nó para árvores\n",
        "class NoArvore:\n",
        "  def __init__(self, dado: T, esquerda: 'NoArvore' = None, direita: 'NoArvore' = None, pai: 'NoArvore' = None, nivel: int = None, indice: int = None):\n",
        "    self.dado = dado\n",
        "    self.esquerda = esquerda\n",
        "    self.direita = direita\n",
        "    self.pai = pai\n",
        "    self.nivel = nivel\n",
        "    self.indice = indice\n",
        "\n",
        "  def __str__(self):\n",
        "    return f'{self.dado}'"
      ],
      "metadata": {
        "id": "aUOZt0nJVsU-"
      },
      "execution_count": 6,
      "outputs": []
    },
    {
      "cell_type": "code",
      "source": [
        "# Árvore binária de busca\n",
        "class Arvore:\n",
        "  def __init__(self):\n",
        "    self.raiz: NoArvore = None\n",
        "    self.tamanho = 0\n",
        "    self.altura = 0\n",
        "\n",
        "  def inserir(self, no: NoArvore):\n",
        "    self.tamanho += 1\n",
        "\n",
        "    if self.raiz == None:\n",
        "      no.nivel = 0\n",
        "      no.indice = 0\n",
        "      self.raiz = no\n",
        "      self.altura = 1\n",
        "      return\n",
        "\n",
        "    altura = 2\n",
        "    atual = self.raiz\n",
        "    if no.dado <= atual.dado:\n",
        "      proximo = atual.esquerda\n",
        "    else:\n",
        "      proximo = atual.direita\n",
        "\n",
        "    while (proximo != None):\n",
        "      atual = proximo\n",
        "      proximo = proximo.esquerda if no.dado <= proximo.dado else proximo.direita\n",
        "      altura += 1\n",
        "\n",
        "    no.indice = self.tamanho - 1\n",
        "    no.nivel = altura - 1\n",
        "    no.pai = atual\n",
        "    if no.dado <= atual.dado:\n",
        "      atual.esquerda = no\n",
        "    else:\n",
        "      atual.direita = no\n",
        "\n",
        "    self.altura = max(altura, self.altura)\n",
        "\n",
        "  @classmethod\n",
        "  def pior_caso(cls, arranjo_ordenado: Sequence):\n",
        "    '''\n",
        "    Agiliza a criação de uma árvore a partir de um arranjo ordenado (crescente)\n",
        "    '''\n",
        "    arvore = cls()\n",
        "    arvore.tamanho = len(arranjo_ordenado)\n",
        "    arvore.altura = len(arranjo_ordenado)\n",
        "    posicao = 0\n",
        "    arvore.raiz = NoArvore(dado=arranjo_ordenado[posicao], nivel=posicao, indice=posicao)\n",
        "    ultimo = arvore.raiz\n",
        "    for posicao in range(1, len(arranjo_ordenado)):\n",
        "      no = NoArvore(dado=arranjo_ordenado[posicao], nivel=posicao, indice=posicao)\n",
        "      no.pai = ultimo\n",
        "      ultimo.direita = no\n",
        "      ultimo = no\n",
        "    return arvore\n",
        "\n",
        "  def busca(self, chave: T) -> tuple[Union[NoArvore, None], int]:\n",
        "    '''\n",
        "    Implementação  do algoritmo de busca em árvores binárias de busca.\n",
        "    Divide sucessivamente o arranjo ao meio, comparando elemento central com a chave, caso este seja:\n",
        "    igual à chave    : retorna a posição\n",
        "    maior que a chave: busca no segmento inferior [esquerda, meio - 1]\n",
        "    menor que a chave: busca no segmento superior [meio + 1, direita ]\n",
        "    Parâmetros obrigatórios:\n",
        "    arranjo: sequência de elementos ordenados\n",
        "    chave: chave de busca\n",
        "    Parâmetros opcionais (nomeadods):\n",
        "    '''\n",
        "    comparacoes = 0\n",
        "\n",
        "    atual = self.raiz\n",
        "    while atual:\n",
        "      comparacoes += 1\n",
        "      if chave == atual.dado:\n",
        "        return (atual, comparacoes)\n",
        "      elif chave < atual.dado:  # deve-se buscar na subárvore esquerda\n",
        "        atual = atual.esquerda\n",
        "      else:\n",
        "        atual = atual.direita   # deve-se buscar na subárvore direita\n",
        "\n",
        "    return (None, comparacoes) # Não encontrou\n",
        "\n",
        "  def percurso_largura(self):\n",
        "    lista = list()\n",
        "    lista.insert(0, self.raiz)\n",
        "    while lista:\n",
        "      atual = lista.pop()\n",
        "      if atual.esquerda:\n",
        "        lista.insert(0, atual.esquerda)\n",
        "      if atual.direita:\n",
        "        lista.insert(0, atual.direita)\n",
        "      print(f'#{atual.indice}={atual.dado}')"
      ],
      "metadata": {
        "id": "pltAZWa9sQod"
      },
      "execution_count": 7,
      "outputs": []
    },
    {
      "cell_type": "markdown",
      "source": [
        "#### Lista encadeada"
      ],
      "metadata": {
        "id": "NnQ5wdDnWJl4"
      }
    },
    {
      "cell_type": "code",
      "source": [
        "# Nó para listas encadeadas\n",
        "class NoLista:\n",
        "  def __init__(self, dado: T, proximo: 'NoLista' = None, anterior: 'NoLista' = None, indice: int = None):\n",
        "    self.dado = dado\n",
        "    self.proximo = proximo\n",
        "    self.anterior = anterior\n",
        "    self.indice = indice\n",
        "\n",
        "  def __str__(self):\n",
        "    return f'{self.dado}'"
      ],
      "metadata": {
        "id": "gq4aMuRFV_Is"
      },
      "execution_count": 8,
      "outputs": []
    },
    {
      "cell_type": "code",
      "source": [
        "# Lista duplamente encadeada\n",
        "class Lista:\n",
        "  def __init__(self):\n",
        "    self.cabeca: NoLista = None\n",
        "    self.calda: NoLista = None\n",
        "    self.tamanho = 0\n",
        "\n",
        "  def inserir(self, no: NoLista):\n",
        "    self.tamanho += 1\n",
        "\n",
        "    if self.cabeca == None:\n",
        "      no.indice = 0\n",
        "      self.cabeca = no\n",
        "      self.calda = no\n",
        "      return\n",
        "\n",
        "    no.indice = self.tamanho - 1\n",
        "\n",
        "    calda = self.calda\n",
        "    no.anterior = calda\n",
        "    calda.proximo = no\n",
        "    self.calda = no\n",
        "\n",
        "  def busca(self, chave: T) -> tuple[Union[NoLista, None], int]:\n",
        "    '''\n",
        "    Implementação do algoritmo da busca sequencial em listas.\n",
        "    Percorre todo o arranjo, comparando cada elemento elemento com a chave de busca.\n",
        "    Retorna a primeira ocorrência ou None caso o elemento não esteja presente no arranjo.\n",
        "    Parâmetros obrigatórios:\n",
        "    lista: lista encadeada de elementos\n",
        "    chave: chave de busca\n",
        "    Parâmetros opcionais (nomeados):\n",
        "    '''\n",
        "    comparacoes = 0\n",
        "\n",
        "    atual = self.cabeca\n",
        "    while atual:\n",
        "      comparacoes += 1\n",
        "      if atual.dado == chave:\n",
        "        return (atual, comparacoes)\n",
        "      atual = atual.proximo\n",
        "\n",
        "    return (None, comparacoes) # Não encontrou"
      ],
      "metadata": {
        "id": "8HotruL7V-7R"
      },
      "execution_count": 9,
      "outputs": []
    },
    {
      "cell_type": "markdown",
      "source": [
        "#### Armazenamento de resultados"
      ],
      "metadata": {
        "id": "NAyHuMulXpF5"
      }
    },
    {
      "cell_type": "code",
      "source": [
        "# variáveis globais\n",
        "resultados = list()"
      ],
      "metadata": {
        "id": "xirrVjdqeUrk"
      },
      "execution_count": 10,
      "outputs": []
    },
    {
      "cell_type": "code",
      "source": [
        "Resultado = namedtuple('Resultado', [\n",
        "    'tamanho_arranjo',\n",
        "    'rodada',\n",
        "    'min',\n",
        "    'max',\n",
        "    'chave',\n",
        "    'presente',\n",
        "    'metodo',\n",
        "    'comparacoes',\n",
        "    'tempo',\n",
        "    'posicao',\n",
        "    'cenario',\n",
        "    'profundidade'\n",
        "])"
      ],
      "metadata": {
        "id": "d8kFHAMrcSji"
      },
      "execution_count": 11,
      "outputs": []
    },
    {
      "cell_type": "code",
      "source": [
        "Resultado.__doc__ += ': Armazena o resultado de uma execução de busca em arranjo'\n",
        "Resultado.tamanho_arranjo.__doc__ = 'Tamanho do arranjo no qual se efetuou a busca'\n",
        "Resultado.rodada.__doc__ = 'Número da rodada de testes'\n",
        "Resultado.min.__doc__ = 'Menor valor no arranjo'\n",
        "Resultado.max.__doc__ = 'Maior valor no arranjo'\n",
        "Resultado.chave.__doc__ = 'Chave buscada'\n",
        "Resultado.presente.__doc__ = 'Indica se o valor da chave está presente ou não no arranjo'\n",
        "Resultado.metodo.__doc__ = 'Método de busca utilizado'\n",
        "Resultado.comparacoes.__doc__ = 'Número de comparações efetuados'\n",
        "Resultado.tempo.__doc__ = 'Tempo gasto na busca/ordenação'\n",
        "Resultado.posicao.__doc__ = 'Posição na qual a chave de busca foi encontrada'\n",
        "Resultado.cenario.__doc__ = 'Cenário da execução ordenação ou busca: aleatório ou pior caso'\n",
        "Resultado.profundidade.__doc__ = 'Profundidade da estrutura de dados. Para árvores, corresponde a altura. Outras estruturas = None'"
      ],
      "metadata": {
        "id": "fsz7rj4_GqJP"
      },
      "execution_count": 12,
      "outputs": []
    },
    {
      "cell_type": "code",
      "source": [
        "def registrar_resultado(resultado: Resultado):\n",
        "  '''\n",
        "  Salva um resultado individual na lista de resultados\n",
        "  '''\n",
        "  global resultados\n",
        "  resultados.append(resultado)"
      ],
      "metadata": {
        "id": "B74FMqNMWYzB"
      },
      "execution_count": 13,
      "outputs": []
    },
    {
      "cell_type": "markdown",
      "source": [
        "### Geração das estruturas e chaves de busca"
      ],
      "metadata": {
        "id": "epDGKGENWxXB"
      }
    },
    {
      "cell_type": "code",
      "source": [
        "def gerar_arranjo(tamanho: int) -> Sequence:\n",
        "  '''\n",
        "  Gera um arranjo aleatório não ordenado com tamanho elementos e valores entre 0 e o tamanho do arranjo * o fator de espalhamento\n",
        "  '''\n",
        "  return random.sample(range(tamanho * FATOR_ESPALHAMENTO), tamanho)"
      ],
      "metadata": {
        "id": "3jHWiaq1Wzj4"
      },
      "execution_count": 14,
      "outputs": []
    },
    {
      "cell_type": "code",
      "source": [
        "# Funções acessórias para criar as estruturas de dados a partir de Sequence\n",
        "def criar_lista(vetor: Sequence) -> Lista:\n",
        "  lista = Lista()\n",
        "  for elemento in vetor:\n",
        "    lista.inserir(NoLista(elemento))\n",
        "  return lista\n",
        "\n",
        "def criar_arvore(vetor: list) -> Arvore:\n",
        "  arvore = Arvore()\n",
        "  for elemento in vetor:\n",
        "    arvore.inserir(NoArvore(elemento))\n",
        "  return arvore"
      ],
      "metadata": {
        "id": "OP0ASQQRGzLJ"
      },
      "execution_count": 15,
      "outputs": []
    },
    {
      "cell_type": "code",
      "source": [
        "def gerar_chave_aleatoria(arranjo: Sequence) -> int:\n",
        "  '''\n",
        "  Gera uma chave de busca escolhendo, com igual probabilidade, entre:\n",
        "  um valor qualquer entre 0 e o tamanho do arranjo * o fator de espalhamento e\n",
        "  um valor qualquer presente no arranjo\n",
        "  Probabilidade da chave estar presente no arranjo = 1/fator espalhamento + 0,5\n",
        "  '''\n",
        "  chave_existente = random.choice(arranjo)\n",
        "  return random.choice([random.randrange(len(arranjo) * FATOR_ESPALHAMENTO), chave_existente])"
      ],
      "metadata": {
        "id": "TSvy6qMOrfek"
      },
      "execution_count": 16,
      "outputs": []
    },
    {
      "cell_type": "code",
      "source": [
        "def gerar_chave_pior_caso(arranjo: Sequence) -> int:\n",
        "  '''\n",
        "  Dado um um arranjo, gera uma chave que corresponde ao pior caso para todos os algoritmos de busca considerados\n",
        "  '''\n",
        "  # Busca sequencial em listas: Percorrer toda a lista (chave último elemento ou chave inexistente)\n",
        "  # Busca em árvores binárias : Percorrer o maior caminho (chave último no maior nível ou sucessora)\n",
        "  chave = arranjo[-1]  # Chave de pesquisa igual ao último elemento\n",
        "  return chave"
      ],
      "metadata": {
        "id": "m76sr9iAdNX3"
      },
      "execution_count": 17,
      "outputs": []
    },
    {
      "cell_type": "markdown",
      "source": [
        "### Execução das buscas"
      ],
      "metadata": {
        "id": "Wt32_030Xb_b"
      }
    },
    {
      "cell_type": "code",
      "source": [
        "def executar_busca(arranjo: Union[Lista, Arvore], chave: int, **kwargs) -> tuple[Union[int, None], int]:\n",
        "  '''\n",
        "  Para um dado cenário, busca a chave no arranjo utilizando o método de busca do arranjo\n",
        "  e registra o resultado da execução.\n",
        "  '''\n",
        "\n",
        "  tempo = timer()\n",
        "  elemento, comparacoes = arranjo.busca(chave)\n",
        "  posicao = elemento.indice if elemento else None\n",
        "  tempo = timer() - tempo\n",
        "  profundidade = estrutura.altura if isinstance(estrutura, Arvore) else None\n",
        "\n",
        "  registrar_resultado(Resultado(\n",
        "      metodo=arranjo.__class__.__name__.capitalize(),\n",
        "      chave=chave,\n",
        "      comparacoes=comparacoes,\n",
        "      tempo=tempo,\n",
        "      posicao=posicao,\n",
        "      profundidade=profundidade,\n",
        "      **kwargs\n",
        "  ))\n",
        "\n",
        "  return (elemento, comparacoes)"
      ],
      "metadata": {
        "id": "K_W6lfqbgauq"
      },
      "execution_count": 18,
      "outputs": []
    },
    {
      "cell_type": "code",
      "source": [
        "# Executa as buscas para os diversos tamanhos de arranjo\n",
        "for tamanho_arranjo in range(TAM_ARRANJO_MIN, TAM_ARRANJO_MAX + 1, TAM_ARRANJO_INC):\n",
        "  arranjo = gerar_arranjo(tamanho_arranjo)\n",
        "  menor = min(arranjo)\n",
        "  maior = max(arranjo)\n",
        "\n",
        "  # Cenário: Aleatório\n",
        "  lista  = criar_lista(arranjo)\n",
        "  arvore = criar_arvore(arranjo)\n",
        "  estruturas = (lista, arvore)\n",
        "  for rodada in range(0, EXEC_BUSCAS):\n",
        "    chave = gerar_chave_aleatoria(arranjo)\n",
        "    kwargs = {\n",
        "      'min': menor,\n",
        "      'max': maior,\n",
        "      'tamanho_arranjo': tamanho_arranjo,\n",
        "      'presente': chave in arranjo,\n",
        "      'rodada': rodada,\n",
        "      'cenario': 'Aleatório',\n",
        "    }\n",
        "    for estrutura in estruturas:\n",
        "      executar_busca(estrutura, chave, **kwargs)\n",
        "\n",
        "  # Cenário: Pior Caso\n",
        "  arranjo_ordenado = sorted(arranjo)\n",
        "  chave  = gerar_chave_pior_caso(arranjo_ordenado)\n",
        "  lista  = criar_lista(arranjo_ordenado)\n",
        "  arvore = Arvore.pior_caso(arranjo_ordenado)\n",
        "  estruturas = (lista, arvore)\n",
        "  for rodada in range(0, EXEC_PIOR_CASO):\n",
        "    kwargs = {\n",
        "      'min': menor,\n",
        "      'max': maior,\n",
        "      'tamanho_arranjo': tamanho_arranjo,\n",
        "      'presente': chave in arranjo_ordenado,\n",
        "      'rodada': rodada,\n",
        "      'cenario': 'Pior Caso',\n",
        "    }\n",
        "    for estrutura in estruturas:\n",
        "      elemento, _ = executar_busca(estrutura, chave, **kwargs)\n",
        "      posicao = elemento.indice if elemento else None\n",
        "      if posicao != tamanho_arranjo - 1:\n",
        "        raise IndexError(f'Resultado diferente do esperado - método {estrutura.__class__.__name__}. Esperado {tamanho_arranjo - 1} - Encontrado: {posicao}')\n"
      ],
      "metadata": {
        "id": "44pKzDFrZ-fh"
      },
      "execution_count": 19,
      "outputs": []
    },
    {
      "cell_type": "markdown",
      "source": [
        "### Calcular as estatíticas"
      ],
      "metadata": {
        "id": "h627siHhDsN2"
      }
    },
    {
      "cell_type": "code",
      "source": [
        "df_bruto = pd.DataFrame(resultados) # Antes de descartar os maiores valores\n",
        "df = df_bruto.copy()                # Será filtrado para descartar os maiores valores"
      ],
      "metadata": {
        "id": "XRsKzJcKhiAX"
      },
      "execution_count": 20,
      "outputs": []
    },
    {
      "cell_type": "code",
      "source": [
        "# Descartar os EXEC_DESCARTAR_MAIOR maiores tempos - devido ao warm up e ao fato do ambiente ser compartilhado\n",
        "get_tamanho_metodo_cenario = lambda df: df[['tamanho_arranjo', 'metodo', 'cenario']].drop_duplicates().itertuples(index=False)\n",
        "get_max_tempo_idx = lambda df, tamanho, metodo, cenario: df[(df['cenario'] == cenario) & (df['metodo'] == metodo) & (df['tamanho_arranjo'] == tamanho)]['tempo'].idxmax()\n",
        "\n",
        "for tamanho, metodo, cenario in get_tamanho_metodo_cenario(df_bruto):\n",
        "  for _ in range(0, EXEC_DESCARTAR_MAIOR):\n",
        "    try:\n",
        "      max_tempo_idx = get_max_tempo_idx(df, tamanho, metodo, cenario)\n",
        "    except ValueError: # Caso ocorra é seguro ignorar\n",
        "      pass\n",
        "    else:\n",
        "      df.drop(max_tempo_idx, inplace=True)"
      ],
      "metadata": {
        "id": "nhi-ELa5o-RY"
      },
      "execution_count": 21,
      "outputs": []
    },
    {
      "cell_type": "code",
      "source": [
        "# Separa os dados de ordenação dos dados de busa\n",
        "df_busca = df[df['cenario'] != 'Ordenação'].copy()"
      ],
      "metadata": {
        "id": "VZ2pYVNpLbo-"
      },
      "execution_count": 22,
      "outputs": []
    },
    {
      "cell_type": "code",
      "source": [
        "# Transforma os valores booleanos (True e False) em inteiros (1 e 0, respectivamente)\n",
        "# Para calcular o % médio de buscas nos quais a chave estava presente no arranjo\n",
        "# Pois a chave ausente corresponde ao pior caso da busca sequencial, e dependendo do valor, da binária também\n",
        "df_busca['presente'] = df_busca['presente'].replace([True, False], [int(True), int(False)])"
      ],
      "metadata": {
        "id": "kinqtIo-QD3M"
      },
      "execution_count": 23,
      "outputs": []
    },
    {
      "cell_type": "code",
      "source": [
        "# Calcula as estatísticas descritivas: média, desvio padrão, mínimo, mediana (50% percentil) e máximo\n",
        "# para as colunas tempo (de busca), número de comparações, % de buscas com chave pertencente ao arranjo\n",
        "# e profundidade (altura das árvores)\n",
        "# dos resultados agrupados por tamanho do arranjo e método de busca (sequencial, por saltos e binária)\n",
        "# serparada para os cenário de busca aleatório ou pior caso\n",
        "df_aleatorio = df_busca[df_busca['cenario'] == 'Aleatório'].groupby(\n",
        "    ['tamanho_arranjo', 'metodo']\n",
        ")[['tempo', 'comparacoes', 'presente', 'profundidade']].describe(percentiles=[])\n",
        "\n",
        "# não selecionamos a coluna presente no cenário pior caso pois sempre será 1, não agregando informação\n",
        "df_pior_caso = df_busca[df_busca['cenario'] == 'Pior Caso'].groupby(\n",
        "    ['tamanho_arranjo', 'metodo']\n",
        ")[['tempo', 'comparacoes', 'profundidade']].describe(percentiles=[])"
      ],
      "metadata": {
        "id": "vNhshd27hh9E"
      },
      "execution_count": 24,
      "outputs": []
    },
    {
      "cell_type": "markdown",
      "source": [
        "### Exibir resultados"
      ],
      "metadata": {
        "id": "TKVhkrRPcl3A"
      }
    },
    {
      "cell_type": "code",
      "source": [
        "# Formatadores\n",
        "# transforma o float de s para ms e aplica a formação de acordo com a localização\n",
        "to_ms = lambda s: locale.format_string('%.2f', 1000*s, grouping=True)\n",
        "# aplica a formação de acordo com a localização - inteiros e floats\n",
        "locale_format_int = lambda d: '-' if pd.isna(d) else locale.format_string('%d', d, grouping=True)\n",
        "locale_format_float = lambda f: '-' if pd.isna(f) else locale.format_string('%.2f', f, grouping=True)"
      ],
      "metadata": {
        "id": "QcpkXeXpBUXq"
      },
      "execution_count": 25,
      "outputs": []
    },
    {
      "cell_type": "code",
      "source": [
        "def renomear_coluna(coluna: str) -> str:\n",
        "  if coluna == None:\n",
        "    return None\n",
        "  return coluna.\\\n",
        "    replace('tempo','Tempo (ms)').\\\n",
        "    replace('comparacoes','Comp.').\\\n",
        "    replace('presente', 'x ∈ A').\\\n",
        "    replace('profundidade', 'Alt.').\\\n",
        "    replace('mean','x̄').\\\n",
        "    replace('std', 'σ')"
      ],
      "metadata": {
        "id": "d-KL9ML7xq79"
      },
      "execution_count": 26,
      "outputs": []
    },
    {
      "cell_type": "code",
      "source": [
        "# Prepara o DataFrame para exibição/apresentação\n",
        "def reformatar_df(df: pd.DataFrame, cenario: Union[str,None] = None) -> pd.DataFrame:\n",
        "  # remover colunas indesejadas\n",
        "  colunas_selecionadas = [coluna for coluna in df.columns if coluna[1] not in ('count','min','50%', 'max')]\n",
        "  novo_df = df[colunas_selecionadas].copy()\n",
        "\n",
        "  # renomear colunas\n",
        "  if cenario is None:\n",
        "    colunas_renomeadas = [(renomear_coluna(medida), renomear_coluna(estatistica)) for medida,estatistica in novo_df.columns.values]\n",
        "  else:   # adiciona o cenário ao nome das colunas - MultiIndex\n",
        "    colunas_renomeadas = [(cenario, renomear_coluna(medida), renomear_coluna(estatistica)) for medida,estatistica in novo_df.columns.values]\n",
        "  novo_df.columns = novo_df.columns.values\n",
        "  novo_df.columns = pd.MultiIndex.from_tuples(colunas_renomeadas)\n",
        "\n",
        "  # reformatar valores dos índices\n",
        "  df_idx_names = novo_df.index.names\n",
        "  df_idx_values = [(locale_format_int(tamanho), metodo) for tamanho,metodo in novo_df.index.values]\n",
        "  novo_df.index = pd.MultiIndex.from_tuples(df_idx_values, names=df_idx_names)\n",
        "\n",
        "  # renomear colunas dos índices\n",
        "  novo_df.rename_axis(\n",
        "    index={\n",
        "      'tamanho_arranjo': 'Tam.',\n",
        "      'metodo': 'Busca' if cenario else 'Ord.'  # Pois na ordenação o cenário não é preenchido\n",
        "    },\n",
        "    inplace=True\n",
        "  )\n",
        "\n",
        "  return novo_df"
      ],
      "metadata": {
        "id": "b9WLx4Iv4rV4"
      },
      "execution_count": 27,
      "outputs": []
    },
    {
      "cell_type": "code",
      "source": [
        "from pandas.io.formats.style import Styler\n",
        "def exibir_df(df: pd.DataFrame) -> Styler:\n",
        "  # associa os formatadores às colunas\n",
        "  formatters={\n",
        "    col:(to_ms if 'Tempo' in col[len(col) - 2] else # Formatador próprio (to_ms) para colunas de tempo\n",
        "        locale_format_float if len(col)!=3 or (col[0] != 'Pior Caso' and col[1] != 'Alt.') else # demais colunas são float\n",
        "        locale_format_int)  # Colunas com inteiros: Pior caso (pois não variam terminando em .0), altura e amanho do arranjo\n",
        "    for col in df.columns\n",
        "  }\n",
        "\n",
        "  # Exibe o df aplicando os formatadores\n",
        "  return df.style.format(formatters)"
      ],
      "metadata": {
        "id": "bgyKlVIbymIK"
      },
      "execution_count": 28,
      "outputs": []
    },
    {
      "cell_type": "code",
      "source": [
        "# remove colunas não informativas\n",
        "df_estatisticas_busca = reformatar_df(df_aleatorio, 'Aleatório').join(reformatar_df(df_pior_caso, 'Pior Caso')).drop([\n",
        "    ('Pior Caso', 'Comp.', 'σ'),  # Será sempre 0\n",
        "    ('Pior Caso', 'Alt.', 'σ'),   # Será sempre 0 - pois a árvore sempre terá a altura == ao tamanho\n",
        "    ('Aleatório', 'Alt.', 'σ'),   # Será sempre 0 - pois a árvore de busca não muda - apenas as chaves\n",
        "    ('Aleatório', 'x ∈ A', 'σ'),  # Estamos interessados apenas na média, que nos informa o % de chaves pertencente ao arranjo\n",
        "], axis=1)"
      ],
      "metadata": {
        "id": "sOFYNHxZFD0-"
      },
      "execution_count": 29,
      "outputs": []
    },
    {
      "cell_type": "code",
      "source": [
        "exibir_df(df_estatisticas_busca)"
      ],
      "metadata": {
        "colab": {
          "base_uri": "https://localhost:8080/",
          "height": 770
        },
        "id": "p6KRI7zO0sw-",
        "outputId": "75d4af08-dc84-4cf3-9e3a-822ad510fbb6"
      },
      "execution_count": 30,
      "outputs": [
        {
          "output_type": "execute_result",
          "data": {
            "text/plain": [
              "<pandas.io.formats.style.Styler at 0x7fdb8b57f640>"
            ],
            "text/html": [
              "<style type=\"text/css\">\n",
              "</style>\n",
              "<table id=\"T_6c09c\" class=\"dataframe\">\n",
              "  <thead>\n",
              "    <tr>\n",
              "      <th class=\"blank\" >&nbsp;</th>\n",
              "      <th class=\"blank level0\" >&nbsp;</th>\n",
              "      <th id=\"T_6c09c_level0_col0\" class=\"col_heading level0 col0\" colspan=\"6\">Aleatório</th>\n",
              "      <th id=\"T_6c09c_level0_col6\" class=\"col_heading level0 col6\" colspan=\"4\">Pior Caso</th>\n",
              "    </tr>\n",
              "    <tr>\n",
              "      <th class=\"blank\" >&nbsp;</th>\n",
              "      <th class=\"blank level1\" >&nbsp;</th>\n",
              "      <th id=\"T_6c09c_level1_col0\" class=\"col_heading level1 col0\" colspan=\"2\">Tempo (ms)</th>\n",
              "      <th id=\"T_6c09c_level1_col2\" class=\"col_heading level1 col2\" colspan=\"2\">Comp.</th>\n",
              "      <th id=\"T_6c09c_level1_col4\" class=\"col_heading level1 col4\" >x ∈ A</th>\n",
              "      <th id=\"T_6c09c_level1_col5\" class=\"col_heading level1 col5\" >Alt.</th>\n",
              "      <th id=\"T_6c09c_level1_col6\" class=\"col_heading level1 col6\" colspan=\"2\">Tempo (ms)</th>\n",
              "      <th id=\"T_6c09c_level1_col8\" class=\"col_heading level1 col8\" >Comp.</th>\n",
              "      <th id=\"T_6c09c_level1_col9\" class=\"col_heading level1 col9\" >Alt.</th>\n",
              "    </tr>\n",
              "    <tr>\n",
              "      <th class=\"blank\" >&nbsp;</th>\n",
              "      <th class=\"blank level2\" >&nbsp;</th>\n",
              "      <th id=\"T_6c09c_level2_col0\" class=\"col_heading level2 col0\" >x̄</th>\n",
              "      <th id=\"T_6c09c_level2_col1\" class=\"col_heading level2 col1\" >σ</th>\n",
              "      <th id=\"T_6c09c_level2_col2\" class=\"col_heading level2 col2\" >x̄</th>\n",
              "      <th id=\"T_6c09c_level2_col3\" class=\"col_heading level2 col3\" >σ</th>\n",
              "      <th id=\"T_6c09c_level2_col4\" class=\"col_heading level2 col4\" >x̄</th>\n",
              "      <th id=\"T_6c09c_level2_col5\" class=\"col_heading level2 col5\" >x̄</th>\n",
              "      <th id=\"T_6c09c_level2_col6\" class=\"col_heading level2 col6\" >x̄</th>\n",
              "      <th id=\"T_6c09c_level2_col7\" class=\"col_heading level2 col7\" >σ</th>\n",
              "      <th id=\"T_6c09c_level2_col8\" class=\"col_heading level2 col8\" >x̄</th>\n",
              "      <th id=\"T_6c09c_level2_col9\" class=\"col_heading level2 col9\" >x̄</th>\n",
              "    </tr>\n",
              "    <tr>\n",
              "      <th class=\"index_name level0\" >Tam.</th>\n",
              "      <th class=\"index_name level1\" >Busca</th>\n",
              "      <th class=\"blank col0\" >&nbsp;</th>\n",
              "      <th class=\"blank col1\" >&nbsp;</th>\n",
              "      <th class=\"blank col2\" >&nbsp;</th>\n",
              "      <th class=\"blank col3\" >&nbsp;</th>\n",
              "      <th class=\"blank col4\" >&nbsp;</th>\n",
              "      <th class=\"blank col5\" >&nbsp;</th>\n",
              "      <th class=\"blank col6\" >&nbsp;</th>\n",
              "      <th class=\"blank col7\" >&nbsp;</th>\n",
              "      <th class=\"blank col8\" >&nbsp;</th>\n",
              "      <th class=\"blank col9\" >&nbsp;</th>\n",
              "    </tr>\n",
              "  </thead>\n",
              "  <tbody>\n",
              "    <tr>\n",
              "      <th id=\"T_6c09c_level0_row0\" class=\"row_heading level0 row0\" rowspan=\"2\">100.000</th>\n",
              "      <th id=\"T_6c09c_level1_row0\" class=\"row_heading level1 row0\" >Arvore</th>\n",
              "      <td id=\"T_6c09c_row0_col0\" class=\"data row0 col0\" >0,03</td>\n",
              "      <td id=\"T_6c09c_row0_col1\" class=\"data row0 col1\" >0,01</td>\n",
              "      <td id=\"T_6c09c_row0_col2\" class=\"data row0 col2\" >21,08</td>\n",
              "      <td id=\"T_6c09c_row0_col3\" class=\"data row0 col3\" >4,70</td>\n",
              "      <td id=\"T_6c09c_row0_col4\" class=\"data row0 col4\" >0,58</td>\n",
              "      <td id=\"T_6c09c_row0_col5\" class=\"data row0 col5\" >40</td>\n",
              "      <td id=\"T_6c09c_row0_col6\" class=\"data row0 col6\" >69,50</td>\n",
              "      <td id=\"T_6c09c_row0_col7\" class=\"data row0 col7\" >18,69</td>\n",
              "      <td id=\"T_6c09c_row0_col8\" class=\"data row0 col8\" >100.000</td>\n",
              "      <td id=\"T_6c09c_row0_col9\" class=\"data row0 col9\" >100.000</td>\n",
              "    </tr>\n",
              "    <tr>\n",
              "      <th id=\"T_6c09c_level1_row1\" class=\"row_heading level1 row1\" >Lista</th>\n",
              "      <td id=\"T_6c09c_row1_col0\" class=\"data row1 col0\" >27,93</td>\n",
              "      <td id=\"T_6c09c_row1_col1\" class=\"data row1 col1\" >17,52</td>\n",
              "      <td id=\"T_6c09c_row1_col2\" class=\"data row1 col2\" >71.065,25</td>\n",
              "      <td id=\"T_6c09c_row1_col3\" class=\"data row1 col3\" >34.653,15</td>\n",
              "      <td id=\"T_6c09c_row1_col4\" class=\"data row1 col4\" >0,59</td>\n",
              "      <td id=\"T_6c09c_row1_col5\" class=\"data row1 col5\" >-</td>\n",
              "      <td id=\"T_6c09c_row1_col6\" class=\"data row1 col6\" >61,26</td>\n",
              "      <td id=\"T_6c09c_row1_col7\" class=\"data row1 col7\" >17,09</td>\n",
              "      <td id=\"T_6c09c_row1_col8\" class=\"data row1 col8\" >100.000</td>\n",
              "      <td id=\"T_6c09c_row1_col9\" class=\"data row1 col9\" >-</td>\n",
              "    </tr>\n",
              "    <tr>\n",
              "      <th id=\"T_6c09c_level0_row2\" class=\"row_heading level0 row2\" rowspan=\"2\">200.000</th>\n",
              "      <th id=\"T_6c09c_level1_row2\" class=\"row_heading level1 row2\" >Arvore</th>\n",
              "      <td id=\"T_6c09c_row2_col0\" class=\"data row2 col0\" >0,02</td>\n",
              "      <td id=\"T_6c09c_row2_col1\" class=\"data row2 col1\" >0,00</td>\n",
              "      <td id=\"T_6c09c_row2_col2\" class=\"data row2 col2\" >24,28</td>\n",
              "      <td id=\"T_6c09c_row2_col3\" class=\"data row2 col3\" >4,57</td>\n",
              "      <td id=\"T_6c09c_row2_col4\" class=\"data row2 col4\" >0,47</td>\n",
              "      <td id=\"T_6c09c_row2_col5\" class=\"data row2 col5\" >43</td>\n",
              "      <td id=\"T_6c09c_row2_col6\" class=\"data row2 col6\" >68,77</td>\n",
              "      <td id=\"T_6c09c_row2_col7\" class=\"data row2 col7\" >1,13</td>\n",
              "      <td id=\"T_6c09c_row2_col8\" class=\"data row2 col8\" >200.000</td>\n",
              "      <td id=\"T_6c09c_row2_col9\" class=\"data row2 col9\" >200.000</td>\n",
              "    </tr>\n",
              "    <tr>\n",
              "      <th id=\"T_6c09c_level1_row3\" class=\"row_heading level1 row3\" >Lista</th>\n",
              "      <td id=\"T_6c09c_row3_col0\" class=\"data row3 col0\" >18,00</td>\n",
              "      <td id=\"T_6c09c_row3_col1\" class=\"data row3 col1\" >7,98</td>\n",
              "      <td id=\"T_6c09c_row3_col2\" class=\"data row3 col2\" >150.370,68</td>\n",
              "      <td id=\"T_6c09c_row3_col3\" class=\"data row3 col3\" >66.744,42</td>\n",
              "      <td id=\"T_6c09c_row3_col4\" class=\"data row3 col4\" >0,48</td>\n",
              "      <td id=\"T_6c09c_row3_col5\" class=\"data row3 col5\" >-</td>\n",
              "      <td id=\"T_6c09c_row3_col6\" class=\"data row3 col6\" >52,41</td>\n",
              "      <td id=\"T_6c09c_row3_col7\" class=\"data row3 col7\" >1,95</td>\n",
              "      <td id=\"T_6c09c_row3_col8\" class=\"data row3 col8\" >200.000</td>\n",
              "      <td id=\"T_6c09c_row3_col9\" class=\"data row3 col9\" >-</td>\n",
              "    </tr>\n",
              "    <tr>\n",
              "      <th id=\"T_6c09c_level0_row4\" class=\"row_heading level0 row4\" rowspan=\"2\">300.000</th>\n",
              "      <th id=\"T_6c09c_level1_row4\" class=\"row_heading level1 row4\" >Arvore</th>\n",
              "      <td id=\"T_6c09c_row4_col0\" class=\"data row4 col0\" >0,03</td>\n",
              "      <td id=\"T_6c09c_row4_col1\" class=\"data row4 col1\" >0,01</td>\n",
              "      <td id=\"T_6c09c_row4_col2\" class=\"data row4 col2\" >22,95</td>\n",
              "      <td id=\"T_6c09c_row4_col3\" class=\"data row4 col3\" >4,91</td>\n",
              "      <td id=\"T_6c09c_row4_col4\" class=\"data row4 col4\" >0,60</td>\n",
              "      <td id=\"T_6c09c_row4_col5\" class=\"data row4 col5\" >43</td>\n",
              "      <td id=\"T_6c09c_row4_col6\" class=\"data row4 col6\" >100,89</td>\n",
              "      <td id=\"T_6c09c_row4_col7\" class=\"data row4 col7\" >1,83</td>\n",
              "      <td id=\"T_6c09c_row4_col8\" class=\"data row4 col8\" >300.000</td>\n",
              "      <td id=\"T_6c09c_row4_col9\" class=\"data row4 col9\" >300.000</td>\n",
              "    </tr>\n",
              "    <tr>\n",
              "      <th id=\"T_6c09c_level1_row5\" class=\"row_heading level1 row5\" >Lista</th>\n",
              "      <td id=\"T_6c09c_row5_col0\" class=\"data row5 col0\" >37,71</td>\n",
              "      <td id=\"T_6c09c_row5_col1\" class=\"data row5 col1\" >23,56</td>\n",
              "      <td id=\"T_6c09c_row5_col2\" class=\"data row5 col2\" >203.712,57</td>\n",
              "      <td id=\"T_6c09c_row5_col3\" class=\"data row5 col3\" >101.096,51</td>\n",
              "      <td id=\"T_6c09c_row5_col4\" class=\"data row5 col4\" >0,61</td>\n",
              "      <td id=\"T_6c09c_row5_col5\" class=\"data row5 col5\" >-</td>\n",
              "      <td id=\"T_6c09c_row5_col6\" class=\"data row5 col6\" >74,45</td>\n",
              "      <td id=\"T_6c09c_row5_col7\" class=\"data row5 col7\" >2,20</td>\n",
              "      <td id=\"T_6c09c_row5_col8\" class=\"data row5 col8\" >300.000</td>\n",
              "      <td id=\"T_6c09c_row5_col9\" class=\"data row5 col9\" >-</td>\n",
              "    </tr>\n",
              "    <tr>\n",
              "      <th id=\"T_6c09c_level0_row6\" class=\"row_heading level0 row6\" rowspan=\"2\">400.000</th>\n",
              "      <th id=\"T_6c09c_level1_row6\" class=\"row_heading level1 row6\" >Arvore</th>\n",
              "      <td id=\"T_6c09c_row6_col0\" class=\"data row6 col0\" >0,03</td>\n",
              "      <td id=\"T_6c09c_row6_col1\" class=\"data row6 col1\" >0,01</td>\n",
              "      <td id=\"T_6c09c_row6_col2\" class=\"data row6 col2\" >26,75</td>\n",
              "      <td id=\"T_6c09c_row6_col3\" class=\"data row6 col3\" >5,71</td>\n",
              "      <td id=\"T_6c09c_row6_col4\" class=\"data row6 col4\" >0,50</td>\n",
              "      <td id=\"T_6c09c_row6_col5\" class=\"data row6 col5\" >50</td>\n",
              "      <td id=\"T_6c09c_row6_col6\" class=\"data row6 col6\" >146,82</td>\n",
              "      <td id=\"T_6c09c_row6_col7\" class=\"data row6 col7\" >7,95</td>\n",
              "      <td id=\"T_6c09c_row6_col8\" class=\"data row6 col8\" >400.000</td>\n",
              "      <td id=\"T_6c09c_row6_col9\" class=\"data row6 col9\" >400.000</td>\n",
              "    </tr>\n",
              "    <tr>\n",
              "      <th id=\"T_6c09c_level1_row7\" class=\"row_heading level1 row7\" >Lista</th>\n",
              "      <td id=\"T_6c09c_row7_col0\" class=\"data row7 col0\" >37,02</td>\n",
              "      <td id=\"T_6c09c_row7_col1\" class=\"data row7 col1\" >15,90</td>\n",
              "      <td id=\"T_6c09c_row7_col2\" class=\"data row7 col2\" >301.224,55</td>\n",
              "      <td id=\"T_6c09c_row7_col3\" class=\"data row7 col3\" >127.406,83</td>\n",
              "      <td id=\"T_6c09c_row7_col4\" class=\"data row7 col4\" >0,50</td>\n",
              "      <td id=\"T_6c09c_row7_col5\" class=\"data row7 col5\" >-</td>\n",
              "      <td id=\"T_6c09c_row7_col6\" class=\"data row7 col6\" >107,10</td>\n",
              "      <td id=\"T_6c09c_row7_col7\" class=\"data row7 col7\" >1,59</td>\n",
              "      <td id=\"T_6c09c_row7_col8\" class=\"data row7 col8\" >400.000</td>\n",
              "      <td id=\"T_6c09c_row7_col9\" class=\"data row7 col9\" >-</td>\n",
              "    </tr>\n",
              "    <tr>\n",
              "      <th id=\"T_6c09c_level0_row8\" class=\"row_heading level0 row8\" rowspan=\"2\">500.000</th>\n",
              "      <th id=\"T_6c09c_level1_row8\" class=\"row_heading level1 row8\" >Arvore</th>\n",
              "      <td id=\"T_6c09c_row8_col0\" class=\"data row8 col0\" >0,03</td>\n",
              "      <td id=\"T_6c09c_row8_col1\" class=\"data row8 col1\" >0,01</td>\n",
              "      <td id=\"T_6c09c_row8_col2\" class=\"data row8 col2\" >25,60</td>\n",
              "      <td id=\"T_6c09c_row8_col3\" class=\"data row8 col3\" >4,86</td>\n",
              "      <td id=\"T_6c09c_row8_col4\" class=\"data row8 col4\" >0,48</td>\n",
              "      <td id=\"T_6c09c_row8_col5\" class=\"data row8 col5\" >49</td>\n",
              "      <td id=\"T_6c09c_row8_col6\" class=\"data row8 col6\" >173,03</td>\n",
              "      <td id=\"T_6c09c_row8_col7\" class=\"data row8 col7\" >3,49</td>\n",
              "      <td id=\"T_6c09c_row8_col8\" class=\"data row8 col8\" >500.000</td>\n",
              "      <td id=\"T_6c09c_row8_col9\" class=\"data row8 col9\" >500.000</td>\n",
              "    </tr>\n",
              "    <tr>\n",
              "      <th id=\"T_6c09c_level1_row9\" class=\"row_heading level1 row9\" >Lista</th>\n",
              "      <td id=\"T_6c09c_row9_col0\" class=\"data row9 col0\" >58,07</td>\n",
              "      <td id=\"T_6c09c_row9_col1\" class=\"data row9 col1\" >34,04</td>\n",
              "      <td id=\"T_6c09c_row9_col2\" class=\"data row9 col2\" >390.926,05</td>\n",
              "      <td id=\"T_6c09c_row9_col3\" class=\"data row9 col3\" >151.481,00</td>\n",
              "      <td id=\"T_6c09c_row9_col4\" class=\"data row9 col4\" >0,50</td>\n",
              "      <td id=\"T_6c09c_row9_col5\" class=\"data row9 col5\" >-</td>\n",
              "      <td id=\"T_6c09c_row9_col6\" class=\"data row9 col6\" >132,88</td>\n",
              "      <td id=\"T_6c09c_row9_col7\" class=\"data row9 col7\" >3,80</td>\n",
              "      <td id=\"T_6c09c_row9_col8\" class=\"data row9 col8\" >500.000</td>\n",
              "      <td id=\"T_6c09c_row9_col9\" class=\"data row9 col9\" >-</td>\n",
              "    </tr>\n",
              "    <tr>\n",
              "      <th id=\"T_6c09c_level0_row10\" class=\"row_heading level0 row10\" rowspan=\"2\">600.000</th>\n",
              "      <th id=\"T_6c09c_level1_row10\" class=\"row_heading level1 row10\" >Arvore</th>\n",
              "      <td id=\"T_6c09c_row10_col0\" class=\"data row10 col0\" >0,03</td>\n",
              "      <td id=\"T_6c09c_row10_col1\" class=\"data row10 col1\" >0,01</td>\n",
              "      <td id=\"T_6c09c_row10_col2\" class=\"data row10 col2\" >25,07</td>\n",
              "      <td id=\"T_6c09c_row10_col3\" class=\"data row10 col3\" >4,90</td>\n",
              "      <td id=\"T_6c09c_row10_col4\" class=\"data row10 col4\" >0,42</td>\n",
              "      <td id=\"T_6c09c_row10_col5\" class=\"data row10 col5\" >49</td>\n",
              "      <td id=\"T_6c09c_row10_col6\" class=\"data row10 col6\" >282,47</td>\n",
              "      <td id=\"T_6c09c_row10_col7\" class=\"data row10 col7\" >67,07</td>\n",
              "      <td id=\"T_6c09c_row10_col8\" class=\"data row10 col8\" >600.000</td>\n",
              "      <td id=\"T_6c09c_row10_col9\" class=\"data row10 col9\" >600.000</td>\n",
              "    </tr>\n",
              "    <tr>\n",
              "      <th id=\"T_6c09c_level1_row11\" class=\"row_heading level1 row11\" >Lista</th>\n",
              "      <td id=\"T_6c09c_row11_col0\" class=\"data row11 col0\" >66,13</td>\n",
              "      <td id=\"T_6c09c_row11_col1\" class=\"data row11 col1\" >39,36</td>\n",
              "      <td id=\"T_6c09c_row11_col2\" class=\"data row11 col2\" >468.179,95</td>\n",
              "      <td id=\"T_6c09c_row11_col3\" class=\"data row11 col3\" >190.295,27</td>\n",
              "      <td id=\"T_6c09c_row11_col4\" class=\"data row11 col4\" >0,42</td>\n",
              "      <td id=\"T_6c09c_row11_col5\" class=\"data row11 col5\" >-</td>\n",
              "      <td id=\"T_6c09c_row11_col6\" class=\"data row11 col6\" >235,14</td>\n",
              "      <td id=\"T_6c09c_row11_col7\" class=\"data row11 col7\" >42,73</td>\n",
              "      <td id=\"T_6c09c_row11_col8\" class=\"data row11 col8\" >600.000</td>\n",
              "      <td id=\"T_6c09c_row11_col9\" class=\"data row11 col9\" >-</td>\n",
              "    </tr>\n",
              "    <tr>\n",
              "      <th id=\"T_6c09c_level0_row12\" class=\"row_heading level0 row12\" rowspan=\"2\">700.000</th>\n",
              "      <th id=\"T_6c09c_level1_row12\" class=\"row_heading level1 row12\" >Arvore</th>\n",
              "      <td id=\"T_6c09c_row12_col0\" class=\"data row12 col0\" >0,03</td>\n",
              "      <td id=\"T_6c09c_row12_col1\" class=\"data row12 col1\" >0,01</td>\n",
              "      <td id=\"T_6c09c_row12_col2\" class=\"data row12 col2\" >25,53</td>\n",
              "      <td id=\"T_6c09c_row12_col3\" class=\"data row12 col3\" >4,91</td>\n",
              "      <td id=\"T_6c09c_row12_col4\" class=\"data row12 col4\" >0,47</td>\n",
              "      <td id=\"T_6c09c_row12_col5\" class=\"data row12 col5\" >46</td>\n",
              "      <td id=\"T_6c09c_row12_col6\" class=\"data row12 col6\" >271,46</td>\n",
              "      <td id=\"T_6c09c_row12_col7\" class=\"data row12 col7\" >4,74</td>\n",
              "      <td id=\"T_6c09c_row12_col8\" class=\"data row12 col8\" >700.000</td>\n",
              "      <td id=\"T_6c09c_row12_col9\" class=\"data row12 col9\" >700.000</td>\n",
              "    </tr>\n",
              "    <tr>\n",
              "      <th id=\"T_6c09c_level1_row13\" class=\"row_heading level1 row13\" >Lista</th>\n",
              "      <td id=\"T_6c09c_row13_col0\" class=\"data row13 col0\" >63,11</td>\n",
              "      <td id=\"T_6c09c_row13_col1\" class=\"data row13 col1\" >26,32</td>\n",
              "      <td id=\"T_6c09c_row13_col2\" class=\"data row13 col2\" >534.599,04</td>\n",
              "      <td id=\"T_6c09c_row13_col3\" class=\"data row13 col3\" >217.092,75</td>\n",
              "      <td id=\"T_6c09c_row13_col4\" class=\"data row13 col4\" >0,48</td>\n",
              "      <td id=\"T_6c09c_row13_col5\" class=\"data row13 col5\" >-</td>\n",
              "      <td id=\"T_6c09c_row13_col6\" class=\"data row13 col6\" >184,18</td>\n",
              "      <td id=\"T_6c09c_row13_col7\" class=\"data row13 col7\" >2,37</td>\n",
              "      <td id=\"T_6c09c_row13_col8\" class=\"data row13 col8\" >700.000</td>\n",
              "      <td id=\"T_6c09c_row13_col9\" class=\"data row13 col9\" >-</td>\n",
              "    </tr>\n",
              "    <tr>\n",
              "      <th id=\"T_6c09c_level0_row14\" class=\"row_heading level0 row14\" rowspan=\"2\">800.000</th>\n",
              "      <th id=\"T_6c09c_level1_row14\" class=\"row_heading level1 row14\" >Arvore</th>\n",
              "      <td id=\"T_6c09c_row14_col0\" class=\"data row14 col0\" >0,03</td>\n",
              "      <td id=\"T_6c09c_row14_col1\" class=\"data row14 col1\" >0,01</td>\n",
              "      <td id=\"T_6c09c_row14_col2\" class=\"data row14 col2\" >26,82</td>\n",
              "      <td id=\"T_6c09c_row14_col3\" class=\"data row14 col3\" >4,21</td>\n",
              "      <td id=\"T_6c09c_row14_col4\" class=\"data row14 col4\" >0,53</td>\n",
              "      <td id=\"T_6c09c_row14_col5\" class=\"data row14 col5\" >47</td>\n",
              "      <td id=\"T_6c09c_row14_col6\" class=\"data row14 col6\" >289,57</td>\n",
              "      <td id=\"T_6c09c_row14_col7\" class=\"data row14 col7\" >3,67</td>\n",
              "      <td id=\"T_6c09c_row14_col8\" class=\"data row14 col8\" >800.000</td>\n",
              "      <td id=\"T_6c09c_row14_col9\" class=\"data row14 col9\" >800.000</td>\n",
              "    </tr>\n",
              "    <tr>\n",
              "      <th id=\"T_6c09c_level1_row15\" class=\"row_heading level1 row15\" >Lista</th>\n",
              "      <td id=\"T_6c09c_row15_col0\" class=\"data row15 col0\" >77,19</td>\n",
              "      <td id=\"T_6c09c_row15_col1\" class=\"data row15 col1\" >41,24</td>\n",
              "      <td id=\"T_6c09c_row15_col2\" class=\"data row15 col2\" >575.746,46</td>\n",
              "      <td id=\"T_6c09c_row15_col3\" class=\"data row15 col3\" >263.181,72</td>\n",
              "      <td id=\"T_6c09c_row15_col4\" class=\"data row15 col4\" >0,53</td>\n",
              "      <td id=\"T_6c09c_row15_col5\" class=\"data row15 col5\" >-</td>\n",
              "      <td id=\"T_6c09c_row15_col6\" class=\"data row15 col6\" >214,05</td>\n",
              "      <td id=\"T_6c09c_row15_col7\" class=\"data row15 col7\" >2,57</td>\n",
              "      <td id=\"T_6c09c_row15_col8\" class=\"data row15 col8\" >800.000</td>\n",
              "      <td id=\"T_6c09c_row15_col9\" class=\"data row15 col9\" >-</td>\n",
              "    </tr>\n",
              "    <tr>\n",
              "      <th id=\"T_6c09c_level0_row16\" class=\"row_heading level0 row16\" rowspan=\"2\">900.000</th>\n",
              "      <th id=\"T_6c09c_level1_row16\" class=\"row_heading level1 row16\" >Arvore</th>\n",
              "      <td id=\"T_6c09c_row16_col0\" class=\"data row16 col0\" >0,03</td>\n",
              "      <td id=\"T_6c09c_row16_col1\" class=\"data row16 col1\" >0,01</td>\n",
              "      <td id=\"T_6c09c_row16_col2\" class=\"data row16 col2\" >25,02</td>\n",
              "      <td id=\"T_6c09c_row16_col3\" class=\"data row16 col3\" >5,35</td>\n",
              "      <td id=\"T_6c09c_row16_col4\" class=\"data row16 col4\" >0,50</td>\n",
              "      <td id=\"T_6c09c_row16_col5\" class=\"data row16 col5\" >48</td>\n",
              "      <td id=\"T_6c09c_row16_col6\" class=\"data row16 col6\" >357,71</td>\n",
              "      <td id=\"T_6c09c_row16_col7\" class=\"data row16 col7\" >20,99</td>\n",
              "      <td id=\"T_6c09c_row16_col8\" class=\"data row16 col8\" >900.000</td>\n",
              "      <td id=\"T_6c09c_row16_col9\" class=\"data row16 col9\" >900.000</td>\n",
              "    </tr>\n",
              "    <tr>\n",
              "      <th id=\"T_6c09c_level1_row17\" class=\"row_heading level1 row17\" >Lista</th>\n",
              "      <td id=\"T_6c09c_row17_col0\" class=\"data row17 col0\" >83,00</td>\n",
              "      <td id=\"T_6c09c_row17_col1\" class=\"data row17 col1\" >40,53</td>\n",
              "      <td id=\"T_6c09c_row17_col2\" class=\"data row17 col2\" >683.849,38</td>\n",
              "      <td id=\"T_6c09c_row17_col3\" class=\"data row17 col3\" >306.246,35</td>\n",
              "      <td id=\"T_6c09c_row17_col4\" class=\"data row17 col4\" >0,50</td>\n",
              "      <td id=\"T_6c09c_row17_col5\" class=\"data row17 col5\" >-</td>\n",
              "      <td id=\"T_6c09c_row17_col6\" class=\"data row17 col6\" >263,80</td>\n",
              "      <td id=\"T_6c09c_row17_col7\" class=\"data row17 col7\" >3,68</td>\n",
              "      <td id=\"T_6c09c_row17_col8\" class=\"data row17 col8\" >900.000</td>\n",
              "      <td id=\"T_6c09c_row17_col9\" class=\"data row17 col9\" >-</td>\n",
              "    </tr>\n",
              "    <tr>\n",
              "      <th id=\"T_6c09c_level0_row18\" class=\"row_heading level0 row18\" rowspan=\"2\">1.000.000</th>\n",
              "      <th id=\"T_6c09c_level1_row18\" class=\"row_heading level1 row18\" >Arvore</th>\n",
              "      <td id=\"T_6c09c_row18_col0\" class=\"data row18 col0\" >0,03</td>\n",
              "      <td id=\"T_6c09c_row18_col1\" class=\"data row18 col1\" >0,01</td>\n",
              "      <td id=\"T_6c09c_row18_col2\" class=\"data row18 col2\" >26,45</td>\n",
              "      <td id=\"T_6c09c_row18_col3\" class=\"data row18 col3\" >5,18</td>\n",
              "      <td id=\"T_6c09c_row18_col4\" class=\"data row18 col4\" >0,54</td>\n",
              "      <td id=\"T_6c09c_row18_col5\" class=\"data row18 col5\" >49</td>\n",
              "      <td id=\"T_6c09c_row18_col6\" class=\"data row18 col6\" >365,73</td>\n",
              "      <td id=\"T_6c09c_row18_col7\" class=\"data row18 col7\" >2,51</td>\n",
              "      <td id=\"T_6c09c_row18_col8\" class=\"data row18 col8\" >1.000.000</td>\n",
              "      <td id=\"T_6c09c_row18_col9\" class=\"data row18 col9\" >1.000.000</td>\n",
              "    </tr>\n",
              "    <tr>\n",
              "      <th id=\"T_6c09c_level1_row19\" class=\"row_heading level1 row19\" >Lista</th>\n",
              "      <td id=\"T_6c09c_row19_col0\" class=\"data row19 col0\" >92,88</td>\n",
              "      <td id=\"T_6c09c_row19_col1\" class=\"data row19 col1\" >58,07</td>\n",
              "      <td id=\"T_6c09c_row19_col2\" class=\"data row19 col2\" >710.240,35</td>\n",
              "      <td id=\"T_6c09c_row19_col3\" class=\"data row19 col3\" >349.607,52</td>\n",
              "      <td id=\"T_6c09c_row19_col4\" class=\"data row19 col4\" >0,55</td>\n",
              "      <td id=\"T_6c09c_row19_col5\" class=\"data row19 col5\" >-</td>\n",
              "      <td id=\"T_6c09c_row19_col6\" class=\"data row19 col6\" >273,86</td>\n",
              "      <td id=\"T_6c09c_row19_col7\" class=\"data row19 col7\" >1,06</td>\n",
              "      <td id=\"T_6c09c_row19_col8\" class=\"data row19 col8\" >1.000.000</td>\n",
              "      <td id=\"T_6c09c_row19_col9\" class=\"data row19 col9\" >-</td>\n",
              "    </tr>\n",
              "  </tbody>\n",
              "</table>\n"
            ]
          },
          "metadata": {},
          "execution_count": 30
        }
      ]
    },
    {
      "cell_type": "markdown",
      "source": [
        "### Salvar resultados"
      ],
      "metadata": {
        "id": "_v0y3MH0CQMw"
      }
    },
    {
      "cell_type": "code",
      "source": [
        "import os # Manipulação de FS\n",
        "\n",
        "def to_latex(df: pd.DataFrame, hide_index: bool = False, **kwargs) -> str:\n",
        "  if hide_index:\n",
        "    new_str = exibir_df(df).hide_index().to_latex(hrules=True, **kwargs)\n",
        "  else:\n",
        "    new_str = exibir_df(df).to_latex(hrules=True, **kwargs)\n",
        "  replacements = {\n",
        "      'x̄': r'$\\bar{x}$',\n",
        "      'σ': r'$\\sigma$',\n",
        "      'x ∈ A': r'$x \\in A$',\n",
        "  }\n",
        "  for old, new in replacements.items():\n",
        "    new_str = new_str.replace(old, new)\n",
        "  return new_str\n",
        "\n",
        "def save_text(text: str, path: str):\n",
        "  with open(path, mode='w') as fout:\n",
        "    fout.write(text)\n",
        "\n",
        "if not os.path.exists('./resultados'):\n",
        "  os.mkdir('./resultados')\n",
        "\n",
        "# Todas as execuções\n",
        "df_bruto.to_csv('./resultados/dados-brutos.csv', sep=';')\n",
        "df.to_csv('./resultados/resultados-todos.csv', sep=';')\n",
        "df.style.to_excel('./resultados/resultados-todos.xlsx')\n",
        "# Buscas\n",
        "df_busca.to_csv('./resultados/resultados-busca.csv', sep=';')\n",
        "df_busca.style.to_excel('./resultados/resultados-busca.xlsx')\n",
        "\n",
        "# Gerar tabela latex - semi-formatada para inclusão no artigo\n",
        "save_text(\n",
        "  to_latex(\n",
        "    df_estatisticas_busca,\n",
        "    clines='skip-last;data',\n",
        "    caption='Comparação empírica do desempenho dos métodos de busca em Listas e Árvores',\n",
        "    label='tab:resultados_listas_arvores'\n",
        "  ),\n",
        "  os.path.join('./resultados', 'tabela-listas_arvores.tex')\n",
        ")"
      ],
      "metadata": {
        "id": "PK-7Iili_5ri"
      },
      "execution_count": 31,
      "outputs": []
    },
    {
      "cell_type": "code",
      "source": [
        "import shutil\n",
        "from google.colab import files\n",
        "\n",
        "shutil.make_archive('resultados', 'zip', 'resultados')\n",
        "\n",
        "files.download('resultados.zip')"
      ],
      "metadata": {
        "colab": {
          "base_uri": "https://localhost:8080/",
          "height": 17
        },
        "id": "vkBYipbn38do",
        "outputId": "8aaf0737-ef3d-4afb-acaf-cac1a65e0dda"
      },
      "execution_count": 32,
      "outputs": [
        {
          "output_type": "display_data",
          "data": {
            "text/plain": [
              "<IPython.core.display.Javascript object>"
            ],
            "application/javascript": [
              "\n",
              "    async function download(id, filename, size) {\n",
              "      if (!google.colab.kernel.accessAllowed) {\n",
              "        return;\n",
              "      }\n",
              "      const div = document.createElement('div');\n",
              "      const label = document.createElement('label');\n",
              "      label.textContent = `Downloading \"${filename}\": `;\n",
              "      div.appendChild(label);\n",
              "      const progress = document.createElement('progress');\n",
              "      progress.max = size;\n",
              "      div.appendChild(progress);\n",
              "      document.body.appendChild(div);\n",
              "\n",
              "      const buffers = [];\n",
              "      let downloaded = 0;\n",
              "\n",
              "      const channel = await google.colab.kernel.comms.open(id);\n",
              "      // Send a message to notify the kernel that we're ready.\n",
              "      channel.send({})\n",
              "\n",
              "      for await (const message of channel.messages) {\n",
              "        // Send a message to notify the kernel that we're ready.\n",
              "        channel.send({})\n",
              "        if (message.buffers) {\n",
              "          for (const buffer of message.buffers) {\n",
              "            buffers.push(buffer);\n",
              "            downloaded += buffer.byteLength;\n",
              "            progress.value = downloaded;\n",
              "          }\n",
              "        }\n",
              "      }\n",
              "      const blob = new Blob(buffers, {type: 'application/binary'});\n",
              "      const a = document.createElement('a');\n",
              "      a.href = window.URL.createObjectURL(blob);\n",
              "      a.download = filename;\n",
              "      div.appendChild(a);\n",
              "      a.click();\n",
              "      div.remove();\n",
              "    }\n",
              "  "
            ]
          },
          "metadata": {}
        },
        {
          "output_type": "display_data",
          "data": {
            "text/plain": [
              "<IPython.core.display.Javascript object>"
            ],
            "application/javascript": [
              "download(\"download_a9cc6802-c666-4367-bb82-899121d9d953\", \"resultados.zip\", 396162)"
            ]
          },
          "metadata": {}
        }
      ]
    },
    {
      "cell_type": "markdown",
      "source": [
        "## Informações sobre o ambiente"
      ],
      "metadata": {
        "id": "ph6fYp4Y-H7E"
      }
    },
    {
      "cell_type": "code",
      "source": [
        "import platform\n",
        "\n",
        "# Plataforma\n",
        "print(platform.platform())\n",
        "# Versão Python\n",
        "print(platform.python_implementation() + ': ' + platform.python_version())\n",
        "# Pandas\n",
        "print(pd.show_versions())"
      ],
      "metadata": {
        "colab": {
          "base_uri": "https://localhost:8080/"
        },
        "id": "q8YdmiCW-Kpu",
        "outputId": "c644562c-93c1-4884-f24a-54438c344106"
      },
      "execution_count": 33,
      "outputs": [
        {
          "output_type": "stream",
          "name": "stdout",
          "text": [
            "Linux-5.15.107+-x86_64-with-glibc2.31\n",
            "CPython: 3.10.12\n"
          ]
        },
        {
          "output_type": "stream",
          "name": "stderr",
          "text": [
            "/usr/local/lib/python3.10/dist-packages/_distutils_hack/__init__.py:33: UserWarning: Setuptools is replacing distutils.\n",
            "  warnings.warn(\"Setuptools is replacing distutils.\")\n"
          ]
        },
        {
          "output_type": "stream",
          "name": "stdout",
          "text": [
            "\n",
            "INSTALLED VERSIONS\n",
            "------------------\n",
            "commit           : 2e218d10984e9919f0296931d92ea851c6a6faf5\n",
            "python           : 3.10.12.final.0\n",
            "python-bits      : 64\n",
            "OS               : Linux\n",
            "OS-release       : 5.15.107+\n",
            "Version          : #1 SMP Sat Apr 29 09:15:28 UTC 2023\n",
            "machine          : x86_64\n",
            "processor        : x86_64\n",
            "byteorder        : little\n",
            "LC_ALL           : None\n",
            "LANG             : en_US.UTF-8\n",
            "LOCALE           : en_US.UTF-8\n",
            "\n",
            "pandas           : 1.5.3\n",
            "numpy            : 1.22.4\n",
            "pytz             : 2022.7.1\n",
            "dateutil         : 2.8.2\n",
            "setuptools       : 67.7.2\n",
            "pip              : 23.1.2\n",
            "Cython           : 0.29.35\n",
            "pytest           : 7.2.2\n",
            "hypothesis       : None\n",
            "sphinx           : 3.5.4\n",
            "blosc            : None\n",
            "feather          : None\n",
            "xlsxwriter       : None\n",
            "lxml.etree       : 4.9.2\n",
            "html5lib         : 1.1\n",
            "pymysql          : None\n",
            "psycopg2         : 2.9.6\n",
            "jinja2           : 3.1.2\n",
            "IPython          : 7.34.0\n",
            "pandas_datareader: 0.10.0\n",
            "bs4              : 4.11.2\n",
            "bottleneck       : None\n",
            "brotli           : None\n",
            "fastparquet      : None\n",
            "fsspec           : 2023.6.0\n",
            "gcsfs            : 2023.6.0\n",
            "matplotlib       : 3.7.1\n",
            "numba            : 0.56.4\n",
            "numexpr          : 2.8.4\n",
            "odfpy            : None\n",
            "openpyxl         : 3.0.10\n",
            "pandas_gbq       : 0.17.9\n",
            "pyarrow          : 9.0.0\n",
            "pyreadstat       : None\n",
            "pyxlsb           : None\n",
            "s3fs             : None\n",
            "scipy            : 1.10.1\n",
            "snappy           : None\n",
            "sqlalchemy       : 2.0.16\n",
            "tables           : 3.8.0\n",
            "tabulate         : 0.8.10\n",
            "xarray           : 2022.12.0\n",
            "xlrd             : 2.0.1\n",
            "xlwt             : None\n",
            "zstandard        : None\n",
            "tzdata           : None\n",
            "None\n"
          ]
        }
      ]
    },
    {
      "cell_type": "code",
      "source": [
        "!free -m"
      ],
      "metadata": {
        "colab": {
          "base_uri": "https://localhost:8080/"
        },
        "id": "d2fIYrD87VjG",
        "outputId": "c70de5ab-ce6b-42a0-aad9-f2fb16b03902"
      },
      "execution_count": 34,
      "outputs": [
        {
          "output_type": "stream",
          "name": "stdout",
          "text": [
            "              total        used        free      shared  buff/cache   available\n",
            "Mem:          12982        1846        7851           1        3284       10849\n",
            "Swap:             0           0           0\n"
          ]
        }
      ]
    },
    {
      "cell_type": "code",
      "source": [
        "!cat /proc/meminfo"
      ],
      "metadata": {
        "colab": {
          "base_uri": "https://localhost:8080/"
        },
        "id": "2186UZ4q7LnB",
        "outputId": "72e56f2b-c442-41a7-d7ff-ff054d7b858a"
      },
      "execution_count": 35,
      "outputs": [
        {
          "output_type": "stream",
          "name": "stdout",
          "text": [
            "MemTotal:       13294264 kB\n",
            "MemFree:         8039688 kB\n",
            "MemAvailable:   11110092 kB\n",
            "Buffers:           66452 kB\n",
            "Cached:          3194936 kB\n",
            "SwapCached:            0 kB\n",
            "Active:           855624 kB\n",
            "Inactive:        4187224 kB\n",
            "Active(anon):       1032 kB\n",
            "Inactive(anon):  1781744 kB\n",
            "Active(file):     854592 kB\n",
            "Inactive(file):  2405480 kB\n",
            "Unevictable:           0 kB\n",
            "Mlocked:               0 kB\n",
            "SwapTotal:             0 kB\n",
            "SwapFree:              0 kB\n",
            "Dirty:              2040 kB\n",
            "Writeback:             0 kB\n",
            "AnonPages:       1777636 kB\n",
            "Mapped:           330432 kB\n",
            "Shmem:              1316 kB\n",
            "KReclaimable:     102576 kB\n",
            "Slab:             137708 kB\n",
            "SReclaimable:     102576 kB\n",
            "SUnreclaim:        35132 kB\n",
            "KernelStack:        4240 kB\n",
            "PageTables:        15140 kB\n",
            "NFS_Unstable:          0 kB\n",
            "Bounce:                0 kB\n",
            "WritebackTmp:          0 kB\n",
            "CommitLimit:     6647132 kB\n",
            "Committed_AS:    3225972 kB\n",
            "VmallocTotal:   34359738367 kB\n",
            "VmallocUsed:        9236 kB\n",
            "VmallocChunk:          0 kB\n",
            "Percpu:             1320 kB\n",
            "HardwareCorrupted:     0 kB\n",
            "AnonHugePages:     16384 kB\n",
            "ShmemHugePages:        0 kB\n",
            "ShmemPmdMapped:        0 kB\n",
            "FileHugePages:         0 kB\n",
            "FilePmdMapped:         0 kB\n",
            "CmaTotal:              0 kB\n",
            "CmaFree:               0 kB\n",
            "HugePages_Total:       0\n",
            "HugePages_Free:        0\n",
            "HugePages_Rsvd:        0\n",
            "HugePages_Surp:        0\n",
            "Hugepagesize:       2048 kB\n",
            "Hugetlb:               0 kB\n",
            "DirectMap4k:       78648 kB\n",
            "DirectMap2M:     5160960 kB\n",
            "DirectMap1G:    10485760 kB\n"
          ]
        }
      ]
    },
    {
      "cell_type": "code",
      "source": [
        "!cat /proc/cpuinfo"
      ],
      "metadata": {
        "colab": {
          "base_uri": "https://localhost:8080/"
        },
        "id": "9PbXXT__1z0M",
        "outputId": "bb8fda98-5ec2-4b08-d1c7-368cc29645a4"
      },
      "execution_count": 36,
      "outputs": [
        {
          "output_type": "stream",
          "name": "stdout",
          "text": [
            "processor\t: 0\n",
            "vendor_id\t: GenuineIntel\n",
            "cpu family\t: 6\n",
            "model\t\t: 79\n",
            "model name\t: Intel(R) Xeon(R) CPU @ 2.20GHz\n",
            "stepping\t: 0\n",
            "microcode\t: 0xffffffff\n",
            "cpu MHz\t\t: 2199.998\n",
            "cache size\t: 56320 KB\n",
            "physical id\t: 0\n",
            "siblings\t: 2\n",
            "core id\t\t: 0\n",
            "cpu cores\t: 1\n",
            "apicid\t\t: 0\n",
            "initial apicid\t: 0\n",
            "fpu\t\t: yes\n",
            "fpu_exception\t: yes\n",
            "cpuid level\t: 13\n",
            "wp\t\t: yes\n",
            "flags\t\t: fpu vme de pse tsc msr pae mce cx8 apic sep mtrr pge mca cmov pat pse36 clflush mmx fxsr sse sse2 ss ht syscall nx pdpe1gb rdtscp lm constant_tsc rep_good nopl xtopology nonstop_tsc cpuid tsc_known_freq pni pclmulqdq ssse3 fma cx16 pcid sse4_1 sse4_2 x2apic movbe popcnt aes xsave avx f16c rdrand hypervisor lahf_lm abm 3dnowprefetch invpcid_single ssbd ibrs ibpb stibp fsgsbase tsc_adjust bmi1 hle avx2 smep bmi2 erms invpcid rtm rdseed adx smap xsaveopt arat md_clear arch_capabilities\n",
            "bugs\t\t: cpu_meltdown spectre_v1 spectre_v2 spec_store_bypass l1tf mds swapgs taa mmio_stale_data retbleed\n",
            "bogomips\t: 4399.99\n",
            "clflush size\t: 64\n",
            "cache_alignment\t: 64\n",
            "address sizes\t: 46 bits physical, 48 bits virtual\n",
            "power management:\n",
            "\n",
            "processor\t: 1\n",
            "vendor_id\t: GenuineIntel\n",
            "cpu family\t: 6\n",
            "model\t\t: 79\n",
            "model name\t: Intel(R) Xeon(R) CPU @ 2.20GHz\n",
            "stepping\t: 0\n",
            "microcode\t: 0xffffffff\n",
            "cpu MHz\t\t: 2199.998\n",
            "cache size\t: 56320 KB\n",
            "physical id\t: 0\n",
            "siblings\t: 2\n",
            "core id\t\t: 0\n",
            "cpu cores\t: 1\n",
            "apicid\t\t: 1\n",
            "initial apicid\t: 1\n",
            "fpu\t\t: yes\n",
            "fpu_exception\t: yes\n",
            "cpuid level\t: 13\n",
            "wp\t\t: yes\n",
            "flags\t\t: fpu vme de pse tsc msr pae mce cx8 apic sep mtrr pge mca cmov pat pse36 clflush mmx fxsr sse sse2 ss ht syscall nx pdpe1gb rdtscp lm constant_tsc rep_good nopl xtopology nonstop_tsc cpuid tsc_known_freq pni pclmulqdq ssse3 fma cx16 pcid sse4_1 sse4_2 x2apic movbe popcnt aes xsave avx f16c rdrand hypervisor lahf_lm abm 3dnowprefetch invpcid_single ssbd ibrs ibpb stibp fsgsbase tsc_adjust bmi1 hle avx2 smep bmi2 erms invpcid rtm rdseed adx smap xsaveopt arat md_clear arch_capabilities\n",
            "bugs\t\t: cpu_meltdown spectre_v1 spectre_v2 spec_store_bypass l1tf mds swapgs taa mmio_stale_data retbleed\n",
            "bogomips\t: 4399.99\n",
            "clflush size\t: 64\n",
            "cache_alignment\t: 64\n",
            "address sizes\t: 46 bits physical, 48 bits virtual\n",
            "power management:\n",
            "\n"
          ]
        }
      ]
    },
    {
      "cell_type": "code",
      "source": [
        "!lscpu"
      ],
      "metadata": {
        "colab": {
          "base_uri": "https://localhost:8080/"
        },
        "id": "NMORZSGf1kRF",
        "outputId": "a1ec848e-1928-4132-b339-334846894c92"
      },
      "execution_count": 37,
      "outputs": [
        {
          "output_type": "stream",
          "name": "stdout",
          "text": [
            "Architecture:                    x86_64\n",
            "CPU op-mode(s):                  32-bit, 64-bit\n",
            "Byte Order:                      Little Endian\n",
            "Address sizes:                   46 bits physical, 48 bits virtual\n",
            "CPU(s):                          2\n",
            "On-line CPU(s) list:             0,1\n",
            "Thread(s) per core:              2\n",
            "Core(s) per socket:              1\n",
            "Socket(s):                       1\n",
            "NUMA node(s):                    1\n",
            "Vendor ID:                       GenuineIntel\n",
            "CPU family:                      6\n",
            "Model:                           79\n",
            "Model name:                      Intel(R) Xeon(R) CPU @ 2.20GHz\n",
            "Stepping:                        0\n",
            "CPU MHz:                         2199.998\n",
            "BogoMIPS:                        4399.99\n",
            "Hypervisor vendor:               KVM\n",
            "Virtualization type:             full\n",
            "L1d cache:                       32 KiB\n",
            "L1i cache:                       32 KiB\n",
            "L2 cache:                        256 KiB\n",
            "L3 cache:                        55 MiB\n",
            "NUMA node0 CPU(s):               0,1\n",
            "Vulnerability Itlb multihit:     Not affected\n",
            "Vulnerability L1tf:              Mitigation; PTE Inversion\n",
            "Vulnerability Mds:               Vulnerable; SMT Host state unknown\n",
            "Vulnerability Meltdown:          Vulnerable\n",
            "Vulnerability Mmio stale data:   Vulnerable\n",
            "Vulnerability Retbleed:          Vulnerable\n",
            "Vulnerability Spec store bypass: Vulnerable\n",
            "Vulnerability Spectre v1:        Vulnerable: __user pointer sanitization and use\n",
            "                                 rcopy barriers only; no swapgs barriers\n",
            "Vulnerability Spectre v2:        Vulnerable, IBPB: disabled, STIBP: disabled, PB\n",
            "                                 RSB-eIBRS: Not affected\n",
            "Vulnerability Srbds:             Not affected\n",
            "Vulnerability Tsx async abort:   Vulnerable\n",
            "Flags:                           fpu vme de pse tsc msr pae mce cx8 apic sep mtr\n",
            "                                 r pge mca cmov pat pse36 clflush mmx fxsr sse s\n",
            "                                 se2 ss ht syscall nx pdpe1gb rdtscp lm constant\n",
            "                                 _tsc rep_good nopl xtopology nonstop_tsc cpuid \n",
            "                                 tsc_known_freq pni pclmulqdq ssse3 fma cx16 pci\n",
            "                                 d sse4_1 sse4_2 x2apic movbe popcnt aes xsave a\n",
            "                                 vx f16c rdrand hypervisor lahf_lm abm 3dnowpref\n",
            "                                 etch invpcid_single ssbd ibrs ibpb stibp fsgsba\n",
            "                                 se tsc_adjust bmi1 hle avx2 smep bmi2 erms invp\n",
            "                                 cid rtm rdseed adx smap xsaveopt arat md_clear \n",
            "                                 arch_capabilities\n"
          ]
        }
      ]
    }
  ]
}